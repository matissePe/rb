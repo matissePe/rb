{
 "cells": [
  {
   "attachments": {},
   "cell_type": "markdown",
   "id": "c3890b75",
   "metadata": {},
   "source": [
    "# Importation des Librairies "
   ]
  },
  {
   "cell_type": "code",
   "execution_count": 1,
   "id": "7a4ddbb0",
   "metadata": {},
   "outputs": [],
   "source": [
    "import pandas as pd\n",
    "import os\n",
    "import pyAgrum as gum\n",
    "from pyagrum_extra import gum\n",
    "import dash\n",
    "from dash import dcc\n",
    "from dash import html, dash_table\n",
    "from dash.dependencies import Input, Output\n",
    "import plotly.express as px"
   ]
  },
  {
   "attachments": {},
   "cell_type": "markdown",
   "id": "3e43e27b",
   "metadata": {},
   "source": [
    "## Import Data"
   ]
  },
  {
   "cell_type": "code",
   "execution_count": 2,
   "id": "2d7b28d4",
   "metadata": {},
   "outputs": [],
   "source": [
    "ot_odr_filename = os.path.join(\"./data\", \"OT_ODR.csv.bz2\")\n",
    "df = pd.read_csv(ot_odr_filename,\n",
    "                        compression=\"bz2\",\n",
    "                        sep=\";\")"
   ]
  },
  {
   "cell_type": "code",
   "execution_count": 3,
   "id": "d2acca3e",
   "metadata": {},
   "outputs": [
    {
     "data": {
      "text/html": [
       "<div>\n",
       "<style scoped>\n",
       "    .dataframe tbody tr th:only-of-type {\n",
       "        vertical-align: middle;\n",
       "    }\n",
       "\n",
       "    .dataframe tbody tr th {\n",
       "        vertical-align: top;\n",
       "    }\n",
       "\n",
       "    .dataframe thead th {\n",
       "        text-align: right;\n",
       "    }\n",
       "</style>\n",
       "<table border=\"1\" class=\"dataframe\">\n",
       "  <thead>\n",
       "    <tr style=\"text-align: right;\">\n",
       "      <th></th>\n",
       "      <th>OT_ID</th>\n",
       "      <th>ODR_ID</th>\n",
       "      <th>ODR_LIBELLE</th>\n",
       "      <th>TYPE_TRAVAIL</th>\n",
       "      <th>DUREE_TRAVAIL</th>\n",
       "      <th>SYSTEM_N1</th>\n",
       "      <th>SYSTEM_N2</th>\n",
       "      <th>SYSTEM_N3</th>\n",
       "      <th>EQU_ID</th>\n",
       "      <th>DATE_OT</th>\n",
       "      <th>KILOMETRAGE</th>\n",
       "      <th>SIG_ORGANE</th>\n",
       "      <th>SIG_CONTEXTE</th>\n",
       "      <th>SIG_OBS</th>\n",
       "      <th>LIGNE</th>\n",
       "    </tr>\n",
       "  </thead>\n",
       "  <tbody>\n",
       "    <tr>\n",
       "      <th>0</th>\n",
       "      <td>OT000000000</td>\n",
       "      <td>OM000000000</td>\n",
       "      <td>REMPLACEMENT D'UNE GLACE LAT VOYAGEUR</td>\n",
       "      <td>CARROSSERIE</td>\n",
       "      <td>4.00</td>\n",
       "      <td>EQUIPEMENT DE CARROSSERIE</td>\n",
       "      <td>VITRAGE</td>\n",
       "      <td>VITRAGE LAT</td>\n",
       "      <td>E00005934</td>\n",
       "      <td>2011-03-29 19:26:06</td>\n",
       "      <td>149698.557783</td>\n",
       "      <td>GLACE/BAIE</td>\n",
       "      <td>INTERIEUR/GAUCHE/ARRIERE</td>\n",
       "      <td>DEBOITE</td>\n",
       "      <td>L0482</td>\n",
       "    </tr>\n",
       "    <tr>\n",
       "      <th>1</th>\n",
       "      <td>OT000000001</td>\n",
       "      <td>OM000000001</td>\n",
       "      <td>REMPLACEMENT D'UN COMMODO DE SIGNALISATION</td>\n",
       "      <td>ELECTRICITE</td>\n",
       "      <td>0.50</td>\n",
       "      <td>EQUIPEMENT ELECTRIQUE</td>\n",
       "      <td>ECLAIRAGE-SIGNALISATION</td>\n",
       "      <td>ECLAIRAGE-SIGNALISATION EXT</td>\n",
       "      <td>E00004713</td>\n",
       "      <td>2011-05-03 20:01:31</td>\n",
       "      <td>225035.016000</td>\n",
       "      <td>KLAXON/GONG</td>\n",
       "      <td>AVANT</td>\n",
       "      <td>ABSENT</td>\n",
       "      <td>L0147</td>\n",
       "    </tr>\n",
       "    <tr>\n",
       "      <th>2</th>\n",
       "      <td>OT000000002</td>\n",
       "      <td>OM000000002</td>\n",
       "      <td>REMPLACEMENT D'UN CARDAN DE LIAISON SUR CREMAI...</td>\n",
       "      <td>MECANIQUE</td>\n",
       "      <td>1.50</td>\n",
       "      <td>EQUIPEMENT CHASSIS</td>\n",
       "      <td>EQUIPEMENT DE DIRECTION</td>\n",
       "      <td>COMMANDE DE DIRECTION</td>\n",
       "      <td>E00006037</td>\n",
       "      <td>2011-05-05 14:40:22</td>\n",
       "      <td>71148.834963</td>\n",
       "      <td>VOITURE</td>\n",
       "      <td>A L'ACCELERATION</td>\n",
       "      <td>VIBRE</td>\n",
       "      <td>L0368</td>\n",
       "    </tr>\n",
       "    <tr>\n",
       "      <th>3</th>\n",
       "      <td>OT000000003</td>\n",
       "      <td>OM000000003</td>\n",
       "      <td>REMPLACEMENT D'UN PARE-CHOCS AVG</td>\n",
       "      <td>CARROSSERIE</td>\n",
       "      <td>0.50</td>\n",
       "      <td>EQUIPEMENT DE CARROSSERIE</td>\n",
       "      <td>ELEMENT CARROSSERIE EXT</td>\n",
       "      <td>PROTECTION AV</td>\n",
       "      <td>E00005670</td>\n",
       "      <td>2011-05-07 07:43:27</td>\n",
       "      <td>116441.657358</td>\n",
       "      <td>PARE-CHOCS</td>\n",
       "      <td>AVANT/GAUCHE</td>\n",
       "      <td>CASSE</td>\n",
       "      <td>L0066</td>\n",
       "    </tr>\n",
       "    <tr>\n",
       "      <th>4</th>\n",
       "      <td>OT000000004</td>\n",
       "      <td>OM000000004</td>\n",
       "      <td>REMPLACEMENT D'UN POTENTIOMETRE DE PORTE NUMERO 1</td>\n",
       "      <td>ELECTRICITE</td>\n",
       "      <td>0.50</td>\n",
       "      <td>EQUIPEMENT DE CARROSSERIE</td>\n",
       "      <td>PORTE</td>\n",
       "      <td>COMMANDE PORTE</td>\n",
       "      <td>E00004009</td>\n",
       "      <td>2011-05-18 10:56:50</td>\n",
       "      <td>0.000000</td>\n",
       "      <td>SECURITE PORTE</td>\n",
       "      <td>ARRIERE</td>\n",
       "      <td>BLOQUE</td>\n",
       "      <td>L0247</td>\n",
       "    </tr>\n",
       "    <tr>\n",
       "      <th>...</th>\n",
       "      <td>...</td>\n",
       "      <td>...</td>\n",
       "      <td>...</td>\n",
       "      <td>...</td>\n",
       "      <td>...</td>\n",
       "      <td>...</td>\n",
       "      <td>...</td>\n",
       "      <td>...</td>\n",
       "      <td>...</td>\n",
       "      <td>...</td>\n",
       "      <td>...</td>\n",
       "      <td>...</td>\n",
       "      <td>...</td>\n",
       "      <td>...</td>\n",
       "      <td>...</td>\n",
       "    </tr>\n",
       "    <tr>\n",
       "      <th>506553</th>\n",
       "      <td>OT000405952</td>\n",
       "      <td>OM000506539</td>\n",
       "      <td>REMPLACEMENT D'UN FEU DE RECUL</td>\n",
       "      <td>ELECTRICITE</td>\n",
       "      <td>0.04</td>\n",
       "      <td>EQUIPEMENT ELECTRIQUE</td>\n",
       "      <td>ECLAIRAGE-SIGNALISATION</td>\n",
       "      <td>ECLAIRAGE-SIGNALISATION EXT</td>\n",
       "      <td>E00040793</td>\n",
       "      <td>2019-09-30 20:38:09</td>\n",
       "      <td>296005.373397</td>\n",
       "      <td>ECLAIRAGE FEUX EXTERIEURS</td>\n",
       "      <td>ARRIERE/EXTERIEUR/DROIT</td>\n",
       "      <td>CASSE</td>\n",
       "      <td>L0283</td>\n",
       "    </tr>\n",
       "    <tr>\n",
       "      <th>506554</th>\n",
       "      <td>OT000405953</td>\n",
       "      <td>OM000506546</td>\n",
       "      <td>REMPLACEMENT D'UN ECLAIRAGE EXT</td>\n",
       "      <td>MECANIQUE</td>\n",
       "      <td>0.75</td>\n",
       "      <td>EQUIPEMENT ELECTRIQUE</td>\n",
       "      <td>ECLAIRAGE-SIGNALISATION</td>\n",
       "      <td>ECLAIRAGE-SIGNALISATION EXT</td>\n",
       "      <td>E00274690</td>\n",
       "      <td>2019-09-30 21:21:20</td>\n",
       "      <td>153050.080050</td>\n",
       "      <td>ECLAIRAGE FEUX EXTERIEURS</td>\n",
       "      <td>ARRIERE/LATERAL</td>\n",
       "      <td>CASSE</td>\n",
       "      <td>L0116</td>\n",
       "    </tr>\n",
       "    <tr>\n",
       "      <th>506555</th>\n",
       "      <td>OT000405954</td>\n",
       "      <td>OM000506536</td>\n",
       "      <td>REMPLACEMENT D'UN PASSE SANS CONTACT</td>\n",
       "      <td>EQUIPEMENT EMBARQUE</td>\n",
       "      <td>0.03</td>\n",
       "      <td>EQUIPEMENT EMBARQUE</td>\n",
       "      <td>TELEBILLETIQUE</td>\n",
       "      <td>PASSE SANS CONTACT</td>\n",
       "      <td>E00256452</td>\n",
       "      <td>2019-09-30 21:39:29</td>\n",
       "      <td>175063.182439</td>\n",
       "      <td>AVTT</td>\n",
       "      <td>AVANT/PORTE</td>\n",
       "      <td>INTERMITTENT</td>\n",
       "      <td>L0134</td>\n",
       "    </tr>\n",
       "    <tr>\n",
       "      <th>506556</th>\n",
       "      <td>OT000405955</td>\n",
       "      <td>OM000506545</td>\n",
       "      <td>REMPLACEMENT D'UNE LAMPE DE FEU DE GABARIT</td>\n",
       "      <td>ELECTRICITE</td>\n",
       "      <td>0.04</td>\n",
       "      <td>EQUIPEMENT ELECTRIQUE</td>\n",
       "      <td>ECLAIRAGE-SIGNALISATION</td>\n",
       "      <td>ECLAIRAGE-SIGNALISATION EXT</td>\n",
       "      <td>E00006122</td>\n",
       "      <td>2019-09-30 21:55:28</td>\n",
       "      <td>437053.614263</td>\n",
       "      <td>ECLAIRAGE FEUX EXTERIEURS</td>\n",
       "      <td>LATERAL/HAUT/GAUCHE</td>\n",
       "      <td>NE FONCTIONNE PAS</td>\n",
       "      <td>L0270</td>\n",
       "    </tr>\n",
       "    <tr>\n",
       "      <th>506557</th>\n",
       "      <td>OT000405956</td>\n",
       "      <td>OM000506547</td>\n",
       "      <td>REMPLACEMENT DE LA CASSETTE ENCREUSE D'UN VALI...</td>\n",
       "      <td>EQUIPEMENT EMBARQUE</td>\n",
       "      <td>0.03</td>\n",
       "      <td>EQUIPEMENT EMBARQUE</td>\n",
       "      <td>TELEBILLETIQUE</td>\n",
       "      <td>VALIDEUR MAGNETIQUE</td>\n",
       "      <td>E00315330</td>\n",
       "      <td>2019-09-30 23:43:42</td>\n",
       "      <td>83269.095630</td>\n",
       "      <td>AVTT</td>\n",
       "      <td>POSTE CONDUITE/AVANT</td>\n",
       "      <td>NE FONCTIONNE PAS</td>\n",
       "      <td>L0047</td>\n",
       "    </tr>\n",
       "  </tbody>\n",
       "</table>\n",
       "<p>506558 rows × 15 columns</p>\n",
       "</div>"
      ],
      "text/plain": [
       "              OT_ID       ODR_ID  \\\n",
       "0       OT000000000  OM000000000   \n",
       "1       OT000000001  OM000000001   \n",
       "2       OT000000002  OM000000002   \n",
       "3       OT000000003  OM000000003   \n",
       "4       OT000000004  OM000000004   \n",
       "...             ...          ...   \n",
       "506553  OT000405952  OM000506539   \n",
       "506554  OT000405953  OM000506546   \n",
       "506555  OT000405954  OM000506536   \n",
       "506556  OT000405955  OM000506545   \n",
       "506557  OT000405956  OM000506547   \n",
       "\n",
       "                                              ODR_LIBELLE  \\\n",
       "0                   REMPLACEMENT D'UNE GLACE LAT VOYAGEUR   \n",
       "1              REMPLACEMENT D'UN COMMODO DE SIGNALISATION   \n",
       "2       REMPLACEMENT D'UN CARDAN DE LIAISON SUR CREMAI...   \n",
       "3                        REMPLACEMENT D'UN PARE-CHOCS AVG   \n",
       "4       REMPLACEMENT D'UN POTENTIOMETRE DE PORTE NUMERO 1   \n",
       "...                                                   ...   \n",
       "506553                     REMPLACEMENT D'UN FEU DE RECUL   \n",
       "506554                    REMPLACEMENT D'UN ECLAIRAGE EXT   \n",
       "506555               REMPLACEMENT D'UN PASSE SANS CONTACT   \n",
       "506556         REMPLACEMENT D'UNE LAMPE DE FEU DE GABARIT   \n",
       "506557  REMPLACEMENT DE LA CASSETTE ENCREUSE D'UN VALI...   \n",
       "\n",
       "               TYPE_TRAVAIL  DUREE_TRAVAIL                  SYSTEM_N1  \\\n",
       "0               CARROSSERIE           4.00  EQUIPEMENT DE CARROSSERIE   \n",
       "1               ELECTRICITE           0.50      EQUIPEMENT ELECTRIQUE   \n",
       "2                 MECANIQUE           1.50         EQUIPEMENT CHASSIS   \n",
       "3               CARROSSERIE           0.50  EQUIPEMENT DE CARROSSERIE   \n",
       "4               ELECTRICITE           0.50  EQUIPEMENT DE CARROSSERIE   \n",
       "...                     ...            ...                        ...   \n",
       "506553          ELECTRICITE           0.04      EQUIPEMENT ELECTRIQUE   \n",
       "506554            MECANIQUE           0.75      EQUIPEMENT ELECTRIQUE   \n",
       "506555  EQUIPEMENT EMBARQUE           0.03        EQUIPEMENT EMBARQUE   \n",
       "506556          ELECTRICITE           0.04      EQUIPEMENT ELECTRIQUE   \n",
       "506557  EQUIPEMENT EMBARQUE           0.03        EQUIPEMENT EMBARQUE   \n",
       "\n",
       "                      SYSTEM_N2                    SYSTEM_N3     EQU_ID  \\\n",
       "0                       VITRAGE                  VITRAGE LAT  E00005934   \n",
       "1       ECLAIRAGE-SIGNALISATION  ECLAIRAGE-SIGNALISATION EXT  E00004713   \n",
       "2       EQUIPEMENT DE DIRECTION        COMMANDE DE DIRECTION  E00006037   \n",
       "3       ELEMENT CARROSSERIE EXT                PROTECTION AV  E00005670   \n",
       "4                         PORTE               COMMANDE PORTE  E00004009   \n",
       "...                         ...                          ...        ...   \n",
       "506553  ECLAIRAGE-SIGNALISATION  ECLAIRAGE-SIGNALISATION EXT  E00040793   \n",
       "506554  ECLAIRAGE-SIGNALISATION  ECLAIRAGE-SIGNALISATION EXT  E00274690   \n",
       "506555           TELEBILLETIQUE           PASSE SANS CONTACT  E00256452   \n",
       "506556  ECLAIRAGE-SIGNALISATION  ECLAIRAGE-SIGNALISATION EXT  E00006122   \n",
       "506557           TELEBILLETIQUE          VALIDEUR MAGNETIQUE  E00315330   \n",
       "\n",
       "                    DATE_OT    KILOMETRAGE                 SIG_ORGANE  \\\n",
       "0       2011-03-29 19:26:06  149698.557783                 GLACE/BAIE   \n",
       "1       2011-05-03 20:01:31  225035.016000                KLAXON/GONG   \n",
       "2       2011-05-05 14:40:22   71148.834963                    VOITURE   \n",
       "3       2011-05-07 07:43:27  116441.657358                 PARE-CHOCS   \n",
       "4       2011-05-18 10:56:50       0.000000             SECURITE PORTE   \n",
       "...                     ...            ...                        ...   \n",
       "506553  2019-09-30 20:38:09  296005.373397  ECLAIRAGE FEUX EXTERIEURS   \n",
       "506554  2019-09-30 21:21:20  153050.080050  ECLAIRAGE FEUX EXTERIEURS   \n",
       "506555  2019-09-30 21:39:29  175063.182439                       AVTT   \n",
       "506556  2019-09-30 21:55:28  437053.614263  ECLAIRAGE FEUX EXTERIEURS   \n",
       "506557  2019-09-30 23:43:42   83269.095630                       AVTT   \n",
       "\n",
       "                    SIG_CONTEXTE            SIG_OBS  LIGNE  \n",
       "0       INTERIEUR/GAUCHE/ARRIERE            DEBOITE  L0482  \n",
       "1                          AVANT             ABSENT  L0147  \n",
       "2               A L'ACCELERATION              VIBRE  L0368  \n",
       "3                   AVANT/GAUCHE              CASSE  L0066  \n",
       "4                        ARRIERE             BLOQUE  L0247  \n",
       "...                          ...                ...    ...  \n",
       "506553   ARRIERE/EXTERIEUR/DROIT              CASSE  L0283  \n",
       "506554           ARRIERE/LATERAL              CASSE  L0116  \n",
       "506555               AVANT/PORTE       INTERMITTENT  L0134  \n",
       "506556       LATERAL/HAUT/GAUCHE  NE FONCTIONNE PAS  L0270  \n",
       "506557      POSTE CONDUITE/AVANT  NE FONCTIONNE PAS  L0047  \n",
       "\n",
       "[506558 rows x 15 columns]"
      ]
     },
     "execution_count": 3,
     "metadata": {},
     "output_type": "execute_result"
    }
   ],
   "source": [
    "df"
   ]
  },
  {
   "attachments": {},
   "cell_type": "markdown",
   "id": "bf2162ba",
   "metadata": {},
   "source": [
    "## MODELE 2 : Réseau naïf à partir de SIG_OBS et SIG_ORGANE"
   ]
  },
  {
   "cell_type": "code",
   "execution_count": 4,
   "id": "c8cabac8",
   "metadata": {},
   "outputs": [
    {
     "name": "stdout",
     "output_type": "stream",
     "text": [
      "<class 'pandas.core.frame.DataFrame'>\n",
      "RangeIndex: 506558 entries, 0 to 506557\n",
      "Data columns (total 15 columns):\n",
      " #   Column         Non-Null Count   Dtype   \n",
      "---  ------         --------------   -----   \n",
      " 0   OT_ID          506558 non-null  object  \n",
      " 1   ODR_ID         506558 non-null  object  \n",
      " 2   ODR_LIBELLE    506558 non-null  category\n",
      " 3   TYPE_TRAVAIL   506558 non-null  category\n",
      " 4   DUREE_TRAVAIL  506558 non-null  float64 \n",
      " 5   SYSTEM_N1      506558 non-null  category\n",
      " 6   SYSTEM_N2      506558 non-null  category\n",
      " 7   SYSTEM_N3      506558 non-null  category\n",
      " 8   EQU_ID         506558 non-null  object  \n",
      " 9   DATE_OT        506558 non-null  object  \n",
      " 10  KILOMETRAGE    506557 non-null  float64 \n",
      " 11  SIG_ORGANE     506558 non-null  category\n",
      " 12  SIG_CONTEXTE   506558 non-null  category\n",
      " 13  SIG_OBS        506558 non-null  category\n",
      " 14  LIGNE          506558 non-null  category\n",
      "dtypes: category(9), float64(2), object(4)\n",
      "memory usage: 29.7+ MB\n"
     ]
    }
   ],
   "source": [
    "var_cat = ['ODR_LIBELLE', 'TYPE_TRAVAIL', 'SYSTEM_N1', 'SYSTEM_N2', 'SYSTEM_N3', 'SIG_ORGANE', 'SIG_CONTEXTE', 'SIG_OBS', 'LIGNE']\n",
    "\n",
    "for var in var_cat:\n",
    "    df[var] = df[var].astype('category')\n",
    "\n",
    "df.info()"
   ]
  },
  {
   "cell_type": "code",
   "execution_count": 5,
   "id": "f93861eb",
   "metadata": {},
   "outputs": [],
   "source": [
    "var_to_model = [\"SYSTEM_N1\", \"SIG_OBS\", \"SYSTEM_N2\",\"SIG_ORGANE\"]\n",
    "\n",
    "var_bn = {}\n",
    "for var in var_to_model:\n",
    "    nb_values = len(df[var].cat.categories)\n",
    "    var_bn[var] = gum.LabelizedVariable(var, var, nb_values)"
   ]
  },
  {
   "attachments": {},
   "cell_type": "markdown",
   "id": "bfdbcdb1",
   "metadata": {},
   "source": [
    "### Ajout les labels"
   ]
  },
  {
   "cell_type": "code",
   "execution_count": 6,
   "id": "4543cb16",
   "metadata": {},
   "outputs": [],
   "source": [
    "for var in var_bn:\n",
    "    for i, modalite in enumerate(df[var].cat.categories):\n",
    "        var_bn[var].changeLabel(i, modalite)"
   ]
  },
  {
   "attachments": {},
   "cell_type": "markdown",
   "id": "66cab255",
   "metadata": {},
   "source": [
    "### Création du RB"
   ]
  },
  {
   "cell_type": "code",
   "execution_count": 7,
   "id": "59ab3536",
   "metadata": {},
   "outputs": [
    {
     "data": {
      "text/plain": [
       "(pyAgrum.BayesNet<double>@0x1372cb600) BN{nodes: 4, arcs: 3, domainSize: 10^6.48852, dim: 2179, mem: 17Ko 272o}"
      ]
     },
     "execution_count": 7,
     "metadata": {},
     "output_type": "execute_result"
    }
   ],
   "source": [
    "bn = gum.BayesNet(\"Model 2\")\n",
    "\n",
    "for var in var_bn.values():\n",
    "    bn.add(var)\n",
    "\n",
    "bn.addArc(\"SYSTEM_N1\", \"SIG_OBS\")\n",
    "bn.addArc(\"SYSTEM_N1\", \"SIG_ORGANE\")\n",
    "bn.addArc(\"SYSTEM_N1\", \"SYSTEM_N2\")\n",
    "bn"
   ]
  },
  {
   "attachments": {},
   "cell_type": "markdown",
   "id": "64634b46",
   "metadata": {},
   "source": [
    "### Fit le RB pour calculer les probabilités"
   ]
  },
  {
   "cell_type": "code",
   "execution_count": 8,
   "id": "5f76a7e1",
   "metadata": {},
   "outputs": [
    {
     "name": "stdout",
     "output_type": "stream",
     "text": [
      "- Learn CPT SYSTEM_N1\n",
      "- Learn CPT SIG_OBS\n",
      "- Learn CPT SYSTEM_N2\n",
      "- Learn CPT SIG_ORGANE\n"
     ]
    }
   ],
   "source": [
    "bn.fit_bis(df, verbose_mode=True)"
   ]
  },
  {
   "cell_type": "code",
   "execution_count": 9,
   "id": "4c70ec70",
   "metadata": {},
   "outputs": [
    {
     "data": {
      "text/plain": [
       "(pyAgrum.Potential<double>@0x136e2bbc0) \n",
       "  SYSTEM_N1                                                                                        |\n",
       "DIVERS   |EQUIPEMEN|EQUIPEMEN|EQUIPEMEN|EQUIPEMEN|EQUIPEMEN|EQUIPEMEN|EQUIPEMEN|EQUIPEMEN|EQUIPEMEN|\n",
       "---------|---------|---------|---------|---------|---------|---------|---------|---------|---------|\n",
       " 0.0001  | 0.0316  | 0.0270  | 0.2472  | 0.0232  | 0.0450  | 0.0027  | 0.5633  | 0.0405  | 0.0195  |"
      ]
     },
     "execution_count": 9,
     "metadata": {},
     "output_type": "execute_result"
    }
   ],
   "source": [
    "bn.cpt(\"SYSTEM_N1\")"
   ]
  },
  {
   "cell_type": "code",
   "execution_count": 10,
   "id": "3ecb2a54",
   "metadata": {},
   "outputs": [
    {
     "data": {
      "text/plain": [
       "(pyAgrum.Potential<double>@0x136ea00a0) \n",
       "      ||  SYSTEM_N2                                                                                                                                                                                                                                                                                                                                                                                                                                                      |\n",
       "SYSTEM||-        |ACCESSIBI|ACCESSOIR|AIDE A L'|AMENAGEME|ARTICULAT|BOITE DE |CHASSIS  |CHAUFFAGE|CIRCUIT D|CIRCUIT D|CIRCUIT D|CIRCUIT D|CIRCUIT D|CIRCUIT D|CIRCUIT D|CIRCUIT D|CIRCUIT D|CIRCUIT D|CIRCUIT D|CLIMATISA|DEPOLLUTI|ECLAIRAGE|ELEMENT C|ENERGIE T|EQUIPEMEN|FREIN D'E|FREIN DE |FREIN PRI|FREIN SEC|INDICATEU|INFORMATI|LIAISON A|MAINTENAN|MOTEUR EL|MOTEUR TH|PORTE    |POSTE DE |REFROIDIS|SECURITE |STOCKAGE |TELEBILLE|TRANSMISS|VENTILATI|VITRAGE  |\n",
       "------||---------|---------|---------|---------|---------|---------|---------|---------|---------|---------|---------|---------|---------|---------|---------|---------|---------|---------|---------|---------|---------|---------|---------|---------|---------|---------|---------|---------|---------|---------|---------|---------|---------|---------|---------|---------|---------|---------|---------|---------|---------|---------|---------|---------|---------|\n",
       "DIVERS|| 0.0000  | 0.0000  | 0.0000  | 0.0000  | 0.0000  | 0.0000  | 0.0000  | 0.0000  | 0.0000  | 0.0000  | 0.0000  | 0.0000  | 0.0000  | 0.0000  | 0.0000  | 0.0000  | 0.0000  | 0.0000  | 0.0000  | 0.0000  | 0.0000  | 0.0000  | 0.0000  | 0.0000  | 0.0000  | 0.0000  | 0.0000  | 0.0000  | 0.0000  | 0.0000  | 0.0000  | 0.0000  | 0.0000  | 1.0000  | 0.0000  | 0.0000  | 0.0000  | 0.0000  | 0.0000  | 0.0000  | 0.0000  | 0.0000  | 0.0000  | 0.0000  | 0.0000  |\n",
       "EQUIPE|| 0.0000  | 0.0999  | 0.0000  | 0.0000  | 0.0000  | 0.0108  | 0.0000  | 0.0429  | 0.0000  | 0.0000  | 0.0000  | 0.0000  | 0.0000  | 0.0000  | 0.0000  | 0.0000  | 0.0000  | 0.0000  | 0.0000  | 0.0000  | 0.0000  | 0.0000  | 0.0000  | 0.0000  | 0.0000  | 0.1027  | 0.0000  | 0.0000  | 0.0000  | 0.0000  | 0.0000  | 0.0000  | 0.7438  | 0.0000  | 0.0000  | 0.0000  | 0.0000  | 0.0000  | 0.0000  | 0.0000  | 0.0000  | 0.0000  | 0.0000  | 0.0000  | 0.0000  |\n",
       "EQUIPE|| 0.0032  | 0.0000  | 0.0000  | 0.0000  | 0.0000  | 0.0000  | 0.0000  | 0.0000  | 0.9083  | 0.0000  | 0.0000  | 0.0000  | 0.0000  | 0.0000  | 0.0000  | 0.0000  | 0.0000  | 0.0000  | 0.0000  | 0.0000  | 0.0059  | 0.0000  | 0.0000  | 0.0000  | 0.0000  | 0.0000  | 0.0000  | 0.0000  | 0.0000  | 0.0000  | 0.0000  | 0.0000  | 0.0000  | 0.0000  | 0.0000  | 0.0000  | 0.0000  | 0.0000  | 0.0000  | 0.0000  | 0.0000  | 0.0000  | 0.0000  | 0.0825  | 0.0000  |\n",
       "EQUIPE|| 0.0000  | 0.0000  | 0.2784  | 0.0000  | 0.0540  | 0.0000  | 0.0000  | 0.0000  | 0.0000  | 0.0000  | 0.0000  | 0.0000  | 0.0000  | 0.0000  | 0.0000  | 0.0000  | 0.0000  | 0.0000  | 0.0000  | 0.0000  | 0.0000  | 0.0000  | 0.0000  | 0.3595  | 0.0000  | 0.0000  | 0.0000  | 0.0000  | 0.0000  | 0.0000  | 0.0000  | 0.0000  | 0.0000  | 0.0000  | 0.0000  | 0.0000  | 0.2380  | 0.0501  | 0.0000  | 0.0000  | 0.0000  | 0.0000  | 0.0000  | 0.0000  | 0.0200  |\n",
       "EQUIPE|| 0.0000  | 0.0000  | 0.0000  | 0.0000  | 0.0000  | 0.0000  | 0.0000  | 0.0000  | 0.0000  | 0.0000  | 0.0000  | 0.0000  | 0.0000  | 0.0000  | 0.0000  | 0.0000  | 0.0000  | 0.0000  | 0.0000  | 0.0000  | 0.0000  | 0.0000  | 0.0000  | 0.0000  | 0.0000  | 0.0000  | 0.1183  | 0.0786  | 0.8029  | 0.0002  | 0.0000  | 0.0000  | 0.0000  | 0.0000  | 0.0000  | 0.0000  | 0.0000  | 0.0000  | 0.0000  | 0.0000  | 0.0000  | 0.0000  | 0.0000  | 0.0000  | 0.0000  |\n",
       "EQUIPE|| 0.0002  | 0.0000  | 0.0000  | 0.0000  | 0.0000  | 0.0000  | 0.0000  | 0.0000  | 0.0000  | 0.0822  | 0.0018  | 0.0579  | 0.0782  | 0.0000  | 0.0000  | 0.0000  | 0.0697  | 0.0406  | 0.0000  | 0.0000  | 0.0000  | 0.2099  | 0.0000  | 0.0000  | 0.0000  | 0.0000  | 0.0000  | 0.0000  | 0.0000  | 0.0000  | 0.0000  | 0.0000  | 0.0000  | 0.0000  | 0.0019  | 0.0827  | 0.0000  | 0.0000  | 0.3749  | 0.0000  | 0.0000  | 0.0000  | 0.0000  | 0.0000  | 0.0000  |\n",
       "EQUIPE|| 0.0000  | 0.0000  | 0.0000  | 0.0000  | 0.0000  | 0.0000  | 0.8969  | 0.0000  | 0.0000  | 0.0000  | 0.0000  | 0.0000  | 0.0000  | 0.0000  | 0.0000  | 0.0000  | 0.0000  | 0.0000  | 0.0000  | 0.0000  | 0.0000  | 0.0000  | 0.0000  | 0.0000  | 0.0000  | 0.0000  | 0.0000  | 0.0000  | 0.0000  | 0.0000  | 0.0000  | 0.0000  | 0.0000  | 0.0000  | 0.0000  | 0.0000  | 0.0000  | 0.0000  | 0.0000  | 0.0000  | 0.0000  | 0.0000  | 0.1031  | 0.0000  | 0.0000  |\n",
       "EQUIPE|| 0.0000  | 0.0000  | 0.0000  | 0.0000  | 0.0000  | 0.0000  | 0.0000  | 0.0000  | 0.0000  | 0.0000  | 0.0000  | 0.0000  | 0.0000  | 0.0054  | 0.0053  | 0.0164  | 0.0000  | 0.0000  | 0.0000  | 0.0002  | 0.0000  | 0.0000  | 0.9180  | 0.0000  | 0.0000  | 0.0000  | 0.0000  | 0.0000  | 0.0000  | 0.0000  | 0.0546  | 0.0000  | 0.0000  | 0.0000  | 0.0000  | 0.0000  | 0.0000  | 0.0000  | 0.0000  | 0.0000  | 0.0000  | 0.0000  | 0.0000  | 0.0000  | 0.0000  |\n",
       "EQUIPE|| 0.0050  | 0.0000  | 0.0000  | 0.2034  | 0.0000  | 0.0000  | 0.0000  | 0.0000  | 0.0000  | 0.0000  | 0.0000  | 0.0000  | 0.0000  | 0.0000  | 0.0000  | 0.0000  | 0.0000  | 0.0000  | 0.0000  | 0.0000  | 0.0000  | 0.0000  | 0.0000  | 0.0000  | 0.0000  | 0.0000  | 0.0000  | 0.0000  | 0.0000  | 0.0000  | 0.0000  | 0.1700  | 0.0000  | 0.0000  | 0.0000  | 0.0000  | 0.0000  | 0.0000  | 0.0000  | 0.1058  | 0.0000  | 0.5157  | 0.0000  | 0.0000  | 0.0000  |\n",
       "EQUIPE|| 0.0000  | 0.0000  | 0.0000  | 0.0000  | 0.0000  | 0.0000  | 0.0000  | 0.0000  | 0.0000  | 0.0000  | 0.0000  | 0.0000  | 0.0000  | 0.0000  | 0.0000  | 0.0000  | 0.0000  | 0.0000  | 0.9724  | 0.0000  | 0.0000  | 0.0000  | 0.0000  | 0.0000  | 0.0000  | 0.0000  | 0.0000  | 0.0000  | 0.0000  | 0.0000  | 0.0000  | 0.0000  | 0.0000  | 0.0000  | 0.0000  | 0.0000  | 0.0000  | 0.0000  | 0.0000  | 0.0000  | 0.0276  | 0.0000  | 0.0000  | 0.0000  | 0.0000  |"
      ]
     },
     "execution_count": 10,
     "metadata": {},
     "output_type": "execute_result"
    }
   ],
   "source": [
    "bn.cpt(\"SYSTEM_N2\")"
   ]
  },
  {
   "attachments": {},
   "cell_type": "markdown",
   "id": "dae05195",
   "metadata": {},
   "source": [
    "# Performance Modèle"
   ]
  },
  {
   "cell_type": "code",
   "execution_count": 11,
   "id": "3708aeab",
   "metadata": {},
   "outputs": [
    {
     "name": "stdout",
     "output_type": "stream",
     "text": [
      "- Learn CPT SYSTEM_N1\n",
      "- Learn CPT SIG_OBS\n",
      "- Learn CPT SYSTEM_N2\n",
      "- Learn CPT SIG_ORGANE\n",
      "Pour la target 'SYSTEM_N1' avec les variables observés : ['SIG_OBS', 'SIG_ORGANE'] \n",
      "Ce modèle on obtiens une performance de 85.57000000000001 %\n",
      "- Learn CPT SYSTEM_N1\n",
      "- Learn CPT SIG_OBS\n",
      "- Learn CPT SYSTEM_N2\n",
      "- Learn CPT SIG_ORGANE\n",
      "Pour la target 'SYSTEM_N2' avec les variables observés : ['SYSTEM_N1'] \n",
      "Ce modèle on obtiens une performance de 71.88 %\n"
     ]
    }
   ],
   "source": [
    "def evaluation(list_var_obsr: list,var_target: str):\n",
    "    # Pour 30% des valeurs mettres : 151966 \n",
    "    df_train = df.iloc[:-10000]\n",
    "    df_test = df.iloc[-10000:]\n",
    "    bn.fit_bis(df_train, verbose_mode=True)\n",
    "    pred = bn.predict(df_test[list_var_obsr], var_target=var_target, show_progress=True)\n",
    "    evaluation = (df_test[var_target] == pred).mean()\n",
    "\n",
    "    print(f\"Pour la target '{var_target}' avec les variables observés : {list_var_obsr} \\nCe modèle on obtiens une performance de {evaluation*100} %\")\n",
    "    return evaluation\n",
    "\n",
    "evaluation_1 = evaluation([\"SIG_OBS\",\"SIG_ORGANE\"],\"SYSTEM_N1\")\n",
    "evaluation_2 = evaluation([\"SYSTEM_N1\"],\"SYSTEM_N2\")"
   ]
  },
  {
   "cell_type": "code",
   "execution_count": 12,
   "id": "5a8a20ad",
   "metadata": {},
   "outputs": [],
   "source": [
    "var_features = [\"SIG_OBS\",\"SIG_ORGANE\"] # Variables explicatives\n",
    "var_targets = [\"SYSTEM_N1\",\"SYSTEM_N2\"] # Variables à expliquer\n",
    "\n",
    "performance_data = [\n",
    "    {\n",
    "        'Target': var_targets[0],\n",
    "        'Pourcentage de performance': evaluation_1 * 100\n",
    "    },\n",
    "    {\n",
    "        'Target': var_targets[1],\n",
    "        'Pourcentage de performance': evaluation_2 * 100\n",
    "    }\n",
    "]\n",
    "performance_df = pd.DataFrame(performance_data)"
   ]
  },
  {
   "attachments": {},
   "cell_type": "markdown",
   "id": "eeacce2d",
   "metadata": {},
   "source": [
    "## Application Dash"
   ]
  },
  {
   "cell_type": "code",
   "execution_count": 13,
   "id": "bace5e7d",
   "metadata": {},
   "outputs": [
    {
     "data": {
      "text/plain": [
       "[{'Target': 'SYSTEM_N1', 'Pourcentage de performance': 85.57000000000001},\n",
       " {'Target': 'SYSTEM_N2', 'Pourcentage de performance': 71.88}]"
      ]
     },
     "execution_count": 13,
     "metadata": {},
     "output_type": "execute_result"
    }
   ],
   "source": [
    "performance_df.to_dict('records')"
   ]
  },
  {
   "cell_type": "code",
   "execution_count": 14,
   "id": "e11f4ae3",
   "metadata": {},
   "outputs": [],
   "source": [
    "app = dash.Dash(__name__)\n",
    "\n",
    "app.layout = html.Div([\n",
    "    html.H1(\"Modele 2\"),\n",
    "    html.Div([\n",
    "        html.Div([\n",
    "            html.Label(var),\n",
    "            dcc.Dropdown(\n",
    "                id=f'{var}-dropdown',\n",
    "                options=[{'label': i, 'value': i} for i in df[var].cat.categories],\n",
    "                value=df[var].cat.categories[0]\n",
    "            )\n",
    "        ]) for var in var_features],\n",
    "        style={'width': '30%', 'display': 'inline-block'}\n",
    "    ),\n",
    "    html.Div([\n",
    "        dash_table.DataTable(\n",
    "            id='performance-table',\n",
    "            columns=[{\"name\": i, \"id\": i} for i in performance_df.columns],\n",
    "            data=performance_df.to_dict('records'),\n",
    "        ),\n",
    "    ], style={'margin': '20px'}),\n",
    "    html.Div([\n",
    "        dcc.Graph(id=f'{var}-graph') \n",
    "        for var in var_targets\n",
    "    ], style={'width': '65%', 'float': 'right', 'display': 'inline-block'})\n",
    "])"
   ]
  },
  {
   "attachments": {},
   "cell_type": "markdown",
   "id": "627c9e92",
   "metadata": {},
   "source": [
    "### Update graph with selected options"
   ]
  },
  {
   "cell_type": "code",
   "execution_count": 15,
   "id": "94274863",
   "metadata": {},
   "outputs": [],
   "source": [
    "@app.callback(\n",
    "    [Output(f'{var}-graph', 'figure') for var in var_targets],\n",
    "    [Input(f'{var}-dropdown', 'value') for var in var_features]\n",
    ")\n",
    "def update_graph(*var_features_values):\n",
    "    bn_ie = gum.LazyPropagation(bn)\n",
    "\n",
    "    ev = {var: value for var, value in zip(var_features, var_features_values)}\n",
    "    bn_ie.setEvidence(ev)\n",
    "    bn_ie.makeInference()\n",
    "\n",
    "    prob_target = []\n",
    "    for i, var in enumerate(var_targets):\n",
    "        prob_target_var = bn_ie.posterior(var).topandas().droplevel(0)\n",
    "        prob_target_var_sorted = prob_target_var.sort_values(ascending=False)\n",
    "        top_5_probs = prob_target_var_sorted.head(5)\n",
    "        prob_fig = px.bar(top_5_probs)\n",
    "        prob_fig.update_layout(title=f\"Top 5 Probabilités pour {var}\")\n",
    "        prob_fig.update_xaxes(title=\"Catégorie\")\n",
    "        prob_fig.update_yaxes(title=\"Probabilités\")\n",
    "        prob_target.append(prob_fig)\n",
    "\n",
    "    return tuple(prob_target)"
   ]
  },
  {
   "cell_type": "code",
   "execution_count": 16,
   "id": "86c3dd8a",
   "metadata": {},
   "outputs": [
    {
     "name": "stdout",
     "output_type": "stream",
     "text": [
      "Dash is running on http://127.0.0.1:8049/\n",
      "\n",
      " * Serving Flask app '__main__'\n",
      " * Debug mode: on\n"
     ]
    }
   ],
   "source": [
    "app.run_server(debug=True, port=8049, use_reloader=False)"
   ]
  }
 ],
 "metadata": {
  "kernelspec": {
   "display_name": "Python 3 (ipykernel)",
   "language": "python",
   "name": "python3"
  },
  "language_info": {
   "codemirror_mode": {
    "name": "ipython",
    "version": 3
   },
   "file_extension": ".py",
   "mimetype": "text/x-python",
   "name": "python",
   "nbconvert_exporter": "python",
   "pygments_lexer": "ipython3",
   "version": "3.9.6"
  }
 },
 "nbformat": 4,
 "nbformat_minor": 5
}
